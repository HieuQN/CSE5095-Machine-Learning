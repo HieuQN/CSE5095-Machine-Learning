{
  "nbformat": 4,
  "nbformat_minor": 0,
  "metadata": {
    "colab": {
      "name": "Final Exam.ipynb",
      "provenance": [],
      "authorship_tag": "ABX9TyPkbTdlagMZyyqcyApGxifH",
      "include_colab_link": true
    },
    "kernelspec": {
      "name": "python3",
      "display_name": "Python 3"
    }
  },
  "cells": [
    {
      "cell_type": "markdown",
      "metadata": {
        "id": "view-in-github",
        "colab_type": "text"
      },
      "source": [
        "<a href=\"https://colab.research.google.com/github/nguyen084/Logistic-Regression/blob/master/Final_Exam.ipynb\" target=\"_parent\"><img src=\"https://colab.research.google.com/assets/colab-badge.svg\" alt=\"Open In Colab\"/></a>"
      ]
    },
    {
      "cell_type": "markdown",
      "metadata": {
        "id": "7iJQ9J2yLnxO",
        "colab_type": "text"
      },
      "source": [
        "Hieu Nguyen\n",
        "\n",
        "Final Exam\n",
        "\n",
        "CSE 5095"
      ]
    },
    {
      "cell_type": "markdown",
      "metadata": {
        "id": "s3icu8SQLx-A",
        "colab_type": "text"
      },
      "source": [
        "I. True/False\n",
        "\n",
        "a) True. Outliers can causes can centroids or means to shifts significantly. using an example of mean with value 1,1,1,1,1,500000 we can see that the cluster is around 1 but the outlier of 500000 will cause the mean to shift a significant amount.\n",
        "\n",
        "b) True. Depend on the number of labels. For example, for 2 classes, we can use sigmoid activation funtion where we use RELU activation function or multiclass classification.\n",
        "\n",
        "c) False. Logistic Regression is a Discriminative model where the classifier model the posterior $p(x|y)$ directly.\n",
        "\n",
        "d) True. In model selection, we use training set and validation data sets for fine tuning the model, and we use the test set to evalute the performance of the model that we decided after parameter finetuning.\n",
        "\n",
        "e) False. SGD can approximate (not compute the exact) the gradient at each iterartion.\n",
        "\n",
        "f). False. Not all quadratic funtion are convex. There are non-convex quadratic funtion that has saddle points where the min/max is not found the boundary given the constraints. We can find non-convex QP in NP hard problem."
      ]
    },
    {
      "cell_type": "markdown",
      "metadata": {
        "id": "hFBvcN-FNNrc",
        "colab_type": "text"
      },
      "source": [
        "II. Short Answers\n",
        "\n",
        "a) When the data is linearly separated, there is no parameter which maximize the likelihood since J can always be increases by making the vector larger but keeping the point at the same direction, in this case, the coefficients does not converge and approach infinity. Using L2 regularization method can stop the algorithm once the solution hits the boundary of the L2 unit sphere. \n",
        "\n",
        "b)The loss function of OLS is $J(\\theta) = \\frac{1}{2}\\sum^m_{i=1}(h_\\theta(x^{(i)}-y^{(i)})^2$. The probablistic interpreation of OLS is that we want to find the maximum likelihood estimation of $\\theta$ under the probabilistic assumption $p(y^{(i)}|x^{(i)};\\theta)$.\n",
        "\n",
        "c) The assumption for Naive Bayes model is that the feature are conditionally independent given the labels: $P(x|y)=p(x_1,..x_n|y)$. This assumption is useful because it's simple and easily scalable to higher dimenstion. Also, if the assumption hold true, the model performs better compares to Logistic regression with fewer data points.\n",
        "\n",
        "d) We want to nornamlize the data as a preprocessing step to have all the features in a common scale. For some model such as K-mean where the model is senstive where big scale feature would dominates and make the modle ineffective. Also, scaling also help boost and performance and train the model faster.\n",
        "\n",
        "e) As C is small, the margin get wider.\n",
        "\n",
        "f)  $0<\\xi_i<1$\n",
        "\n",
        "g) Because those classified points are still within the margin.\n",
        "\n",
        "h)  In optimization, Hessian matrix calculations and other matrix operations have to be performed,\n",
        "which become very expensive if the matrices have a lot of dimensions, which is the case if\n",
        "the feature vectors have high dimensions. Kernel trick deal with computing the frature vector of their dot product, in a way, we can do the same calculation with less operations while still using a non-linear model."
      ]
    },
    {
      "cell_type": "markdown",
      "metadata": {
        "id": "MRZJfK0JRPxW",
        "colab_type": "text"
      },
      "source": [
        "III. Principal Component Analysis"
      ]
    },
    {
      "cell_type": "code",
      "metadata": {
        "id": "hTZ5-gM6RVE4",
        "colab_type": "code",
        "outputId": "1905c033-957d-4511-982f-6ebf5326c2f8",
        "colab": {
          "base_uri": "https://localhost:8080/",
          "height": 153
        }
      },
      "source": [
        "from google.colab import drive\n",
        "import os\n",
        "import numpy as np\n",
        "drive.mount('/content/gdrive')\n",
        "os.chdir(r'/content/gdrive/My Drive/Academic/UCONN/MATH5095Machine Learning/')\n",
        "x = np.loadtxt('Q4pca_xvals.dat',delimiter=',')\n",
        "[eigvals_cov, eigvecs_cov] = np.linalg.eig(np.cov(x.T))\n",
        "print('a)')\n",
        "print('Eigenvalues: \\n',eigvals_cov)\n",
        "print('Eigenvectors: \\n',eigvecs_cov)"
      ],
      "execution_count": 3,
      "outputs": [
        {
          "output_type": "stream",
          "text": [
            "Drive already mounted at /content/gdrive; to attempt to forcibly remount, call drive.mount(\"/content/gdrive\", force_remount=True).\n",
            "a)\n",
            "Eigenvalues: \n",
            " [8.90980737 0.90451723 0.64360411]\n",
            "Eigenvectors: \n",
            " [[ 0.13932246  0.91107071 -0.3879941 ]\n",
            " [ 0.1112329  -0.40373427 -0.90808914]\n",
            " [ 0.98397993 -0.0833595   0.15759029]]\n"
          ],
          "name": "stdout"
        }
      ]
    },
    {
      "cell_type": "markdown",
      "metadata": {
        "id": "AvUkFBeAUKOr",
        "colab_type": "text"
      },
      "source": [
        "b) We first calucte the covariance matrix and compute the eigenvectors and eigenvalues. The directions in which the data are dispersed are described in the eigenvector and the relative importance of these different directions is explained using the corresponding eigenvalues. Now, principal components are eigenvectors and the corresponding eigenvalues determines its important that explain the most variance  \n",
        "\n"
      ]
    },
    {
      "cell_type": "code",
      "metadata": {
        "id": "GsU-oRod5KwO",
        "colab_type": "code",
        "colab": {
          "base_uri": "https://localhost:8080/",
          "height": 85
        },
        "outputId": "e3570e6f-6b4d-4851-80be-c48ae3112333"
      },
      "source": [
        "print('Explained Variance Ratio of PC1: ',eigvals_cov[0]/sum(eigvals_cov))\n",
        "print('Explained Variance Ratio of PC2: ',eigvals_cov[1]/sum(eigvals_cov))\n",
        "print('Explained Variance Ratio of PC3: ',eigvals_cov[2]/sum(eigvals_cov))\n",
        "print('c) Since the first PC explain 85% of the variance, in this case, we only need to project the data to PC1 and out data dimension is 200x1')"
      ],
      "execution_count": 5,
      "outputs": [
        {
          "output_type": "stream",
          "text": [
            "Explained Variance Ratio of PC1:  0.8519667338530136\n",
            "Explained Variance Ratio of PC2:  0.08649104956728083\n",
            "Explained Variance Ratio of PC3:  0.06154221657970559\n",
            "c) Since the first PC explain 85% of the variance, in this case, we only need to project the data to PC1 and out data dimension is 200x1\n"
          ],
          "name": "stdout"
        }
      ]
    },
    {
      "cell_type": "markdown",
      "metadata": {
        "id": "khoeOwzQXQBx",
        "colab_type": "text"
      },
      "source": [
        "c) From the eigenvalue we compute above, we can see already see that one the first eigenvectors and eigenvalue already represents most of the variance of the data. Using PCA from sklearn, the approximate dimensionliaty of the data such that ex explained variance is at least 75% is 200x1.  "
      ]
    },
    {
      "cell_type": "code",
      "metadata": {
        "id": "qBnnvjX86D2c",
        "colab_type": "code",
        "colab": {}
      },
      "source": [
        "mean = x.mean(axis=0)\n",
        "descending_order = np.flip(np.argsort(eigvals_cov))\n",
        "eigvals_cov = eigvals_cov[descending_order]\n",
        "eigvecs_cov = eigvecs_cov[descending_order]\n",
        "x_mean = x - mean\n",
        "x_pca = x @ eigvecs_cov\n"
      ],
      "execution_count": 0,
      "outputs": []
    },
    {
      "cell_type": "code",
      "metadata": {
        "id": "RYyfqmpFbIgq",
        "colab_type": "code",
        "outputId": "d4d2a7f0-b4df-4978-9371-35d110132153",
        "colab": {
          "base_uri": "https://localhost:8080/",
          "height": 296
        }
      },
      "source": [
        "import matplotlib.pyplot as plt\n",
        "plt.scatter(x_pca[:, 0], x_pca[:, 1],)\n",
        "plt.xlabel('component 1')\n",
        "plt.ylabel('component 2')"
      ],
      "execution_count": 19,
      "outputs": [
        {
          "output_type": "execute_result",
          "data": {
            "text/plain": [
              "Text(0, 0.5, 'component 2')"
            ]
          },
          "metadata": {
            "tags": []
          },
          "execution_count": 19
        },
        {
          "output_type": "display_data",
          "data": {
            "image/png": "[encoded data removed]",
            "text/plain": [
              "<Figure size 432x288 with 1 Axes>"
            ]
          },
          "metadata": {
            "tags": [],
            "needs_background": "light"
          }
        }
      ]
    },
    {
      "cell_type": "code",
      "metadata": {
        "id": "xRXf8w8vbU_x",
        "colab_type": "code",
        "outputId": "868a3660-550a-4c75-8dc3-2abbc348028a",
        "colab": {
          "base_uri": "https://localhost:8080/",
          "height": 296
        }
      },
      "source": [
        "plt.scatter(x_pca[:, 1], x_pca[:, 2],)\n",
        "plt.xlabel('component 2')\n",
        "plt.ylabel('component 3')"
      ],
      "execution_count": 20,
      "outputs": [
        {
          "output_type": "execute_result",
          "data": {
            "text/plain": [
              "Text(0, 0.5, 'component 3')"
            ]
          },
          "metadata": {
            "tags": []
          },
          "execution_count": 20
        },
        {
          "output_type": "display_data",
          "data": {
            "image/png": "[encoded data removed]",
            "text/plain": [
              "<Figure size 432x288 with 1 Axes>"
            ]
          },
          "metadata": {
            "tags": [],
            "needs_background": "light"
          }
        }
      ]
    },
    {
      "cell_type": "code",
      "metadata": {
        "id": "systTHofbZda",
        "colab_type": "code",
        "outputId": "8bebe01a-7106-49dc-eb06-f2ae806ff004",
        "colab": {
          "base_uri": "https://localhost:8080/",
          "height": 296
        }
      },
      "source": [
        "plt.scatter(x_pca[:, 0], x_pca[:, 2],)\n",
        "plt.xlabel('component 1')\n",
        "plt.ylabel('component 3')"
      ],
      "execution_count": 21,
      "outputs": [
        {
          "output_type": "execute_result",
          "data": {
            "text/plain": [
              "Text(0, 0.5, 'component 3')"
            ]
          },
          "metadata": {
            "tags": []
          },
          "execution_count": 21
        },
        {
          "output_type": "display_data",
          "data": {
            "image/png": "[encoded data removed]",
            "text/plain": [
              "<Figure size 432x288 with 1 Axes>"
            ]
          },
          "metadata": {
            "tags": [],
            "needs_background": "light"
          }
        }
      ]
    },
    {
      "cell_type": "markdown",
      "metadata": {
        "id": "dLmGlCu8eMgF",
        "colab_type": "text"
      },
      "source": [
        "d) After seeing the projection, I agree with my results from part(c) because we do not see any relationship or clear pattern between the components, which suggests that the first principal components already explained the most variance of this dataset, and other principal components do not contribute much."
      ]
    },
    {
      "cell_type": "markdown",
      "metadata": {
        "id": "mCSlLOA6ktVX",
        "colab_type": "text"
      },
      "source": [
        "Extracredit (difficult)\n",
        "\n",
        "We know that the principal compoenents directions or eigenvectors are calculated based on the variance of the data. In order to prove that Bessel's correction does not affect the principal component directions, we need to show that the Bessel's correction is an unbiased estimator of the variance. \n",
        "\n",
        "In Bias of Sample Variance,\n",
        "$E(\\frac{1}{m}(X^TX-m\\bar{x}\\bar{x}^T))=(1-\\frac{1}{m})(X^TX-m\\bar{x}\\bar{x}^T)$\n",
        "\n",
        "Then, $nE(\\frac{1}{m}(X^TX-m\\bar{x}\\bar{x}^T))=E((X^TX-m\\bar{x}\\bar{x}^T)) = n(1-\\frac{1}{m})(X^TX-m\\bar{x}\\bar{x}^T) = (n-1)(X^TX-m\\bar{x}\\bar{x}^T) $\n",
        "\n",
        " Thus, $(X^TX-m\\bar{x}\\bar{x}^T) = \\frac{1}{m-1}E(X^TX-m\\bar{x}\\bar{x}^T) = E(\\frac{1}{m-1}(X^TX-m\\bar{x}\\bar{x}^T))$\n",
        "\n",
        " Now we see that the Bessel's correction of variance is an unbiased estimator of the orginial variance, so when we calculate the principal component, it would not affect either eigenvalues or eigenvectors.\n",
        "\n"
      ]
    },
    {
      "cell_type": "markdown",
      "metadata": {
        "id": "8xjey9qFeq1a",
        "colab_type": "text"
      },
      "source": [
        "IV. K-meanrs Clustering\n",
        "\n",
        "a)  \n",
        "\n",
        "*   We have clusters that don’t look like a ’blob’ i.e the clusters are elongated shapes,our k-means algorithm may not find the correct cluster centers. \n",
        "*   We may have unevenly sized clusters. In this case, k-means does not always fail.\n",
        "When these clusters are well separated, it is easy to correctly classify the data. If\n",
        "the clusters are not separated far enough, large clusters may be artificially split into\n",
        "smaller clusters, and datapoints from the truly smaller clusters may merge into one of\n",
        "these split clusters.\n",
        ".\n",
        "\n",
        "b) Because the the centroid positions are initially choosen at random, K-means will likely give different results each time it is run, so we need to run K-mean multiple times and select the best score.\n",
        "\n",
        "c) 0 since each data point is it own cluster.\n",
        "\n",
        "d) $\\sum^m_{i=1}||x^{(i)}-\\bar{x}||^2$\n",
        "\n",
        "e) J would decrease as there are more clusters with fewer datapoints, where the datapoints are closer to their corresponding centroids.\n",
        "\n",
        "\n",
        " "
      ]
    },
    {
      "cell_type": "markdown",
      "metadata": {
        "id": "oa1ZN4RsgDdK",
        "colab_type": "text"
      },
      "source": [
        "V. Multilayer Perceptron (Difficult)\n",
        "\n",
        "a) Let $g^{(j)}(x) = W^{(j)T}x+b^{(j)}$\n",
        "\n",
        "$\\frac{dL}{dW_{21}^{(1)}}=(o_1-y)f'(g^{(3)}(\\overrightarrow{h^{(2)}}))W_1^{(3)}f'(g^{(2)}(\\overrightarrow{h^{(1)}}))W_1^{(2)}f'(g^{(3)}(\\overrightarrow{x}))x_2$\n",
        "\n",
        "b) $\\frac{dL}{dW_{22}^{(1)}},\\frac{dL}{dW_{12}^{(1)}},\\frac{dL}{db_{1}^{(1)}}$ since these contains the partial derivative of  $\\frac{dL}{dW_{21}^{(2)}}$. during the back-propogation.\n",
        "\n",
        "c)In regression, we use linear activation function for the output layer, therefore, it is typical to use MSE loss. "
      ]
    }
  ]
}